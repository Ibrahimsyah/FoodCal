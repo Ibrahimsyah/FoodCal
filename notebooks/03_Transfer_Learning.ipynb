{
  "nbformat": 4,
  "nbformat_minor": 0,
  "metadata": {
    "colab": {
      "name": "03 - Transfer_Learning.ipynb",
      "provenance": [],
      "collapsed_sections": [],
      "include_colab_link": true
    },
    "kernelspec": {
      "name": "python3",
      "display_name": "Python 3"
    },
    "language_info": {
      "name": "python"
    },
    "accelerator": "GPU"
  },
  "cells": [
    {
      "cell_type": "markdown",
      "metadata": {
        "id": "view-in-github",
        "colab_type": "text"
      },
      "source": [
        "<a href=\"https://colab.research.google.com/github/Ibrahimsyah/Foories/blob/master/notebooks/03_Transfer_Learning.ipynb\" target=\"_parent\"><img src=\"https://colab.research.google.com/assets/colab-badge.svg\" alt=\"Open In Colab\"/></a>"
      ]
    },
    {
      "cell_type": "code",
      "metadata": {
        "id": "m1LtxOWoBAZv"
      },
      "source": [
        "!pip install gdown -q"
      ],
      "execution_count": 1,
      "outputs": []
    },
    {
      "cell_type": "code",
      "metadata": {
        "id": "9omKGtlgBDIv"
      },
      "source": [
        "import tensorflow as tf\n",
        "import tensorflow_hub as hub\n",
        "from tensorflow.keras.preprocessing.image import ImageDataGenerator\n",
        "from tensorflow.keras.optimizers import RMSprop\n",
        "import numpy as np\n",
        "import matplotlib.pylab as plt\n",
        "from tqdm import tqdm"
      ],
      "execution_count": 2,
      "outputs": []
    },
    {
      "cell_type": "code",
      "metadata": {
        "colab": {
          "base_uri": "https://localhost:8080/"
        },
        "id": "mrWnWzwQCC6w",
        "outputId": "4deb5633-6cca-4b10-be55-f533befe380a"
      },
      "source": [
        "print(\"\\u2022 Using TensorFlow Version:\", tf.__version__)\n",
        "print(\"\\u2022 Using TensorFlow Hub Version: \", hub.__version__)\n",
        "print('\\u2022 GPU Device Found.' if tf.test.is_gpu_available() else '\\u2022 GPU Device Not Found. Running on CPU')"
      ],
      "execution_count": 3,
      "outputs": [
        {
          "output_type": "stream",
          "text": [
            "• Using TensorFlow Version: 2.4.1\n",
            "• Using TensorFlow Hub Version:  0.12.0\n",
            "WARNING:tensorflow:From <ipython-input-3-564eecbd9ff6>:3: is_gpu_available (from tensorflow.python.framework.test_util) is deprecated and will be removed in a future version.\n",
            "Instructions for updating:\n",
            "Use `tf.config.list_physical_devices('GPU')` instead.\n",
            "• GPU Device Found.\n"
          ],
          "name": "stdout"
        }
      ]
    },
    {
      "cell_type": "code",
      "metadata": {
        "colab": {
          "base_uri": "https://localhost:8080/"
        },
        "id": "K5CDqq_GBEjg",
        "outputId": "ea0c8c74-ffab-4b40-96ef-0c89f60210e1"
      },
      "source": [
        "!gdown 'https://drive.google.com/uc?id=1m2WYGHvONlBjAUfbmPtU1BYAdm1PaDSe' -O dataset_cleaned.zip"
      ],
      "execution_count": 4,
      "outputs": [
        {
          "output_type": "stream",
          "text": [
            "Downloading...\n",
            "From: https://drive.google.com/uc?id=1m2WYGHvONlBjAUfbmPtU1BYAdm1PaDSe\n",
            "To: /content/dataset_cleaned.zip\n",
            "173MB [00:01, 104MB/s]\n"
          ],
          "name": "stdout"
        }
      ]
    },
    {
      "cell_type": "code",
      "metadata": {
        "id": "YQ4K8M1tBJBk"
      },
      "source": [
        "!mkdir dataset\n",
        "!unzip -q dataset_cleaned.zip"
      ],
      "execution_count": 5,
      "outputs": []
    },
    {
      "cell_type": "code",
      "metadata": {
        "id": "yUUPnmL9BLDX"
      },
      "source": [
        "train_dir = \"/content/content/dataset/train\"\n",
        "valid_dir = \"/content/content/dataset/dev\"\n",
        "test_dir = \"/content/content/dataset/test\""
      ],
      "execution_count": 6,
      "outputs": []
    },
    {
      "cell_type": "code",
      "metadata": {
        "id": "iQOWn6GFBZ5l",
        "colab": {
          "base_uri": "https://localhost:8080/"
        },
        "outputId": "897fdc65-de83-459c-cf6d-843f5c5ad0a1"
      },
      "source": [
        "module_selection = (\"inception_v3\", 299, 2048) #@param [\"(\\\"mobilenet_v2\\\", 224, 1280)\", \"(\\\"inception_v3\\\", 299, 2048)\"] {type:\"raw\", allow-input: true}\n",
        "handle_base, pixels, FV_SIZE = module_selection\n",
        "MODULE_HANDLE =\"https://tfhub.dev/google/tf2-preview/{}/feature_vector/4\".format(handle_base)\n",
        "IMAGE_SIZE = (pixels, pixels)\n",
        "print(\"Using {} with input size {} and output dimension {}\".format(MODULE_HANDLE, IMAGE_SIZE, FV_SIZE))"
      ],
      "execution_count": 17,
      "outputs": [
        {
          "output_type": "stream",
          "text": [
            "Using https://tfhub.dev/google/tf2-preview/inception_v3/feature_vector/4 with input size (299, 299) and output dimension 2048\n"
          ],
          "name": "stdout"
        }
      ]
    },
    {
      "cell_type": "code",
      "metadata": {
        "id": "tW-4UOuxBkBe"
      },
      "source": [
        "BATCH_SIZE = 64 #@param {type:\"integer\"}"
      ],
      "execution_count": 18,
      "outputs": []
    },
    {
      "cell_type": "code",
      "metadata": {
        "id": "NJ9LVX6BEA_Q"
      },
      "source": [
        "do_fine_tuning = False #@param {type:\"boolean\"}"
      ],
      "execution_count": 19,
      "outputs": []
    },
    {
      "cell_type": "code",
      "metadata": {
        "id": "hR6pZJvtBrjz"
      },
      "source": [
        "feature_extractor = hub.KerasLayer(MODULE_HANDLE,\n",
        "                                   input_shape=IMAGE_SIZE + (3,), \n",
        "                                   output_shape=[FV_SIZE],\n",
        "                                   trainable=do_fine_tuning)"
      ],
      "execution_count": 20,
      "outputs": []
    },
    {
      "cell_type": "code",
      "metadata": {
        "id": "wroZR04lBsHr",
        "colab": {
          "base_uri": "https://localhost:8080/"
        },
        "outputId": "e00e6d3b-ff55-4bf1-9b05-496aaf113d35"
      },
      "source": [
        "print(\"Building model with\", MODULE_HANDLE)\n",
        "\n",
        "model = tf.keras.Sequential([\n",
        "        feature_extractor,\n",
        "        tf.keras.layers.Dense(16, activation='softmax')\n",
        "])\n",
        "\n",
        "model.summary()"
      ],
      "execution_count": 21,
      "outputs": [
        {
          "output_type": "stream",
          "text": [
            "Building model with https://tfhub.dev/google/tf2-preview/inception_v3/feature_vector/4\n",
            "Model: \"sequential_1\"\n",
            "_________________________________________________________________\n",
            "Layer (type)                 Output Shape              Param #   \n",
            "=================================================================\n",
            "keras_layer_1 (KerasLayer)   (None, 2048)              21802784  \n",
            "_________________________________________________________________\n",
            "dense_1 (Dense)              (None, 16)                32784     \n",
            "=================================================================\n",
            "Total params: 21,835,568\n",
            "Trainable params: 32,784\n",
            "Non-trainable params: 21,802,784\n",
            "_________________________________________________________________\n"
          ],
          "name": "stdout"
        }
      ]
    },
    {
      "cell_type": "code",
      "metadata": {
        "id": "XTTL_Z2KBtcc"
      },
      "source": [
        "#@title (Optional) Unfreeze some layers\n",
        "NUM_LAYERS = 10 #@param {type:\"slider\", min:1, max:50, step:1}\n",
        "      \n",
        "if do_fine_tuning:\n",
        "    feature_extractor.trainable = True\n",
        "    \n",
        "    for layer in model.layers[-NUM_LAYERS:]:\n",
        "        layer.trainable = True\n",
        "\n",
        "else:\n",
        "    feature_extractor.trainable = False"
      ],
      "execution_count": 22,
      "outputs": []
    },
    {
      "cell_type": "code",
      "metadata": {
        "id": "mO9Qyp68B1WJ"
      },
      "source": [
        "if do_fine_tuning:\n",
        "    model.compile(optimizer=tf.keras.optimizers.SGD(lr=0.002, momentum=0.9),\n",
        "                  loss=tf.keras.losses.SparseCategoricalCrossentropy(),\n",
        "                  metrics=['accuracy'])\n",
        "else:\n",
        "    model.compile(optimizer='adam',\n",
        "                  loss='categorical_crossentropy',\n",
        "                  metrics=['accuracy'])"
      ],
      "execution_count": 23,
      "outputs": []
    },
    {
      "cell_type": "code",
      "metadata": {
        "colab": {
          "base_uri": "https://localhost:8080/"
        },
        "id": "KQAPn_zjFIlR",
        "outputId": "905f047c-04bc-43f7-dffb-64d2fb5e3a75"
      },
      "source": [
        "# Training datagen\n",
        "train_datagen = ImageDataGenerator(\n",
        "    rescale=1./255,\n",
        "    shear_range=0.2,\n",
        "    zoom_range=0.2,\n",
        "    fill_mode='nearest'\n",
        ")\n",
        "\n",
        "test_datagen = ImageDataGenerator(rescale=1./255)\n",
        "\n",
        "# Flow training data generator\n",
        "train_generator = train_datagen.flow_from_directory(\n",
        "    train_dir,\n",
        "    target_size=(224, 224),\n",
        "    batch_size=BATCH_SIZE,\n",
        "    shuffle=True,\n",
        "    class_mode='categorical'\n",
        ")\n",
        "\n",
        "# Flow validation data generator\n",
        "validation_generator = test_datagen.flow_from_directory(\n",
        "    valid_dir,\n",
        "    target_size=(224, 224),\n",
        "    batch_size=BATCH_SIZE,\n",
        "    shuffle=True,\n",
        "    class_mode='categorical'\n",
        ")"
      ],
      "execution_count": 24,
      "outputs": [
        {
          "output_type": "stream",
          "text": [
            "Found 11372 images belonging to 16 classes.\n",
            "Found 2150 images belonging to 16 classes.\n"
          ],
          "name": "stdout"
        }
      ]
    },
    {
      "cell_type": "markdown",
      "metadata": {
        "id": "BMkvDrH7Yi9O"
      },
      "source": [
        "##Inception_v3"
      ]
    },
    {
      "cell_type": "code",
      "metadata": {
        "id": "B4CfggmzB5gM",
        "colab": {
          "base_uri": "https://localhost:8080/"
        },
        "outputId": "33d9cf91-c32f-42d7-ca4e-cd7f434e774b"
      },
      "source": [
        "EPOCHS = 10\n",
        "\n",
        "hist1 = model.fit(train_generator,\n",
        "                 epochs=EPOCHS,\n",
        "                 validation_data=validation_generator)"
      ],
      "execution_count": 25,
      "outputs": [
        {
          "output_type": "stream",
          "text": [
            "Epoch 1/10\n",
            "178/178 [==============================] - 133s 714ms/step - loss: 1.6444 - accuracy: 0.5055 - val_loss: 0.8841 - val_accuracy: 0.7121\n",
            "Epoch 2/10\n",
            "178/178 [==============================] - 124s 695ms/step - loss: 0.8552 - accuracy: 0.7300 - val_loss: 0.8500 - val_accuracy: 0.7102\n",
            "Epoch 3/10\n",
            "178/178 [==============================] - 123s 693ms/step - loss: 0.7996 - accuracy: 0.7416 - val_loss: 0.7962 - val_accuracy: 0.7419\n",
            "Epoch 4/10\n",
            "178/178 [==============================] - 123s 693ms/step - loss: 0.7127 - accuracy: 0.7639 - val_loss: 0.8325 - val_accuracy: 0.7195\n",
            "Epoch 5/10\n",
            "178/178 [==============================] - 123s 690ms/step - loss: 0.6858 - accuracy: 0.7812 - val_loss: 0.7627 - val_accuracy: 0.7488\n",
            "Epoch 6/10\n",
            "178/178 [==============================] - 123s 691ms/step - loss: 0.6324 - accuracy: 0.7946 - val_loss: 0.7556 - val_accuracy: 0.7498\n",
            "Epoch 7/10\n",
            "178/178 [==============================] - 123s 690ms/step - loss: 0.6202 - accuracy: 0.7955 - val_loss: 0.7804 - val_accuracy: 0.7428\n",
            "Epoch 8/10\n",
            "178/178 [==============================] - 123s 691ms/step - loss: 0.5806 - accuracy: 0.8107 - val_loss: 0.7650 - val_accuracy: 0.7540\n",
            "Epoch 9/10\n",
            "178/178 [==============================] - 123s 690ms/step - loss: 0.5909 - accuracy: 0.8094 - val_loss: 0.7792 - val_accuracy: 0.7540\n",
            "Epoch 10/10\n",
            "178/178 [==============================] - 123s 691ms/step - loss: 0.5642 - accuracy: 0.8153 - val_loss: 0.8336 - val_accuracy: 0.7460\n"
          ],
          "name": "stdout"
        }
      ]
    },
    {
      "cell_type": "code",
      "metadata": {
        "colab": {
          "base_uri": "https://localhost:8080/",
          "height": 545
        },
        "id": "4vGlTOWhZKnZ",
        "outputId": "37dd9b0f-8f62-449c-d0c3-78d13f078843"
      },
      "source": [
        "import matplotlib.pyplot as plt\n",
        "acc = hist1.history['accuracy']\n",
        "val_acc = hist1.history['val_accuracy']\n",
        "loss = hist1.history['loss']\n",
        "val_loss = hist1.history['val_loss']\n",
        "\n",
        "epochs = range(len(acc))\n",
        "\n",
        "plt.plot(epochs, acc, 'b', label='Training accuracy')\n",
        "plt.plot(epochs, val_acc, 'r', label='Validation accuracy')\n",
        "plt.title('Training and validation accuracy')\n",
        "plt.legend()\n",
        "plt.figure()\n",
        "\n",
        "plt.plot(epochs, loss, 'b', label='Training Loss')\n",
        "plt.plot(epochs, val_loss, 'r', label='Validation Loss')\n",
        "plt.title('Training and validation loss')\n",
        "plt.legend()\n",
        "plt.show()"
      ],
      "execution_count": 26,
      "outputs": [
        {
          "output_type": "display_data",
          "data": {
            "image/png": "[encoded data removed]",
            "text/plain": [
              "<Figure size 432x288 with 1 Axes>"
            ]
          },
          "metadata": {
            "tags": [],
            "needs_background": "light"
          }
        },
        {
          "output_type": "display_data",
          "data": {
            "image/png": "[encoded data removed]",
            "text/plain": [
              "<Figure size 432x288 with 1 Axes>"
            ]
          },
          "metadata": {
            "tags": [],
            "needs_background": "light"
          }
        }
      ]
    },
    {
      "cell_type": "markdown",
      "metadata": {
        "id": "uN5oB9kZYkzM"
      },
      "source": [
        "##MobileNet_v2"
      ]
    },
    {
      "cell_type": "code",
      "metadata": {
        "colab": {
          "base_uri": "https://localhost:8080/"
        },
        "id": "zMC7t407Ypel",
        "outputId": "60cdd31c-4eec-4042-9163-89801bb1e4cf"
      },
      "source": [
        "EPOCHS = 10\n",
        "\n",
        "hist2 = model.fit(train_generator,\n",
        "                 epochs=EPOCHS,\n",
        "                 validation_data=validation_generator)"
      ],
      "execution_count": 15,
      "outputs": [
        {
          "output_type": "stream",
          "text": [
            "Epoch 1/10\n",
            "178/178 [==============================] - 156s 683ms/step - loss: 1.7206 - accuracy: 0.4818 - val_loss: 0.8441 - val_accuracy: 0.7335\n",
            "Epoch 2/10\n",
            "178/178 [==============================] - 120s 673ms/step - loss: 0.7955 - accuracy: 0.7634 - val_loss: 0.7254 - val_accuracy: 0.7707\n",
            "Epoch 3/10\n",
            "178/178 [==============================] - 119s 667ms/step - loss: 0.6848 - accuracy: 0.7859 - val_loss: 0.6895 - val_accuracy: 0.7791\n",
            "Epoch 4/10\n",
            "178/178 [==============================] - 119s 669ms/step - loss: 0.6278 - accuracy: 0.8043 - val_loss: 0.6896 - val_accuracy: 0.7907\n",
            "Epoch 5/10\n",
            "178/178 [==============================] - 118s 667ms/step - loss: 0.5856 - accuracy: 0.8180 - val_loss: 0.6635 - val_accuracy: 0.7926\n",
            "Epoch 6/10\n",
            "178/178 [==============================] - 118s 665ms/step - loss: 0.5628 - accuracy: 0.8232 - val_loss: 0.6582 - val_accuracy: 0.7940\n",
            "Epoch 7/10\n",
            "178/178 [==============================] - 119s 668ms/step - loss: 0.5256 - accuracy: 0.8354 - val_loss: 0.6453 - val_accuracy: 0.7893\n",
            "Epoch 8/10\n",
            "178/178 [==============================] - 119s 669ms/step - loss: 0.5222 - accuracy: 0.8281 - val_loss: 0.6407 - val_accuracy: 0.7986\n",
            "Epoch 9/10\n",
            "178/178 [==============================] - 119s 668ms/step - loss: 0.5091 - accuracy: 0.8393 - val_loss: 0.6527 - val_accuracy: 0.7944\n",
            "Epoch 10/10\n",
            "178/178 [==============================] - 119s 668ms/step - loss: 0.4685 - accuracy: 0.8502 - val_loss: 0.6665 - val_accuracy: 0.7958\n"
          ],
          "name": "stdout"
        }
      ]
    },
    {
      "cell_type": "code",
      "metadata": {
        "id": "KufrmPJPB8OH",
        "colab": {
          "base_uri": "https://localhost:8080/",
          "height": 545
        },
        "outputId": "90587c3b-b4ea-4234-f0c6-4c46f646341c"
      },
      "source": [
        "import matplotlib.pyplot as plt\n",
        "acc = hist2.history['accuracy']\n",
        "val_acc = hist2.history['val_accuracy']\n",
        "loss = hist2.history['loss']\n",
        "val_loss = hist2.history['val_loss']\n",
        "\n",
        "epochs = range(len(acc))\n",
        "\n",
        "plt.plot(epochs, acc, 'b', label='Training accuracy')\n",
        "plt.plot(epochs, val_acc, 'r', label='Validation accuracy')\n",
        "plt.title('Training and validation accuracy')\n",
        "plt.legend()\n",
        "plt.figure()\n",
        "\n",
        "plt.plot(epochs, loss, 'b', label='Training Loss')\n",
        "plt.plot(epochs, val_loss, 'r', label='Validation Loss')\n",
        "plt.title('Training and validation loss')\n",
        "plt.legend()\n",
        "plt.show()"
      ],
      "execution_count": 16,
      "outputs": [
        {
          "output_type": "display_data",
          "data": {
            "image/png": "[encoded data removed]",
            "text/plain": [
              "<Figure size 432x288 with 1 Axes>"
            ]
          },
          "metadata": {
            "tags": [],
            "needs_background": "light"
          }
        },
        {
          "output_type": "display_data",
          "data": {
            "image/png": "[encoded data removed]",
            "text/plain": [
              "<Figure size 432x288 with 1 Axes>"
            ]
          },
          "metadata": {
            "tags": [],
            "needs_background": "light"
          }
        }
      ]
    },
    {
      "cell_type": "code",
      "metadata": {
        "id": "Dy56LtxsXc-_"
      },
      "source": [
        ""
      ],
      "execution_count": null,
      "outputs": []
    }
  ]
}