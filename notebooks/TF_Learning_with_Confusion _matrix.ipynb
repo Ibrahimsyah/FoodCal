{
  "nbformat": 4,
  "nbformat_minor": 0,
  "metadata": {
    "colab": {
      "name": "03 - Transfer_Learning.ipynb",
      "provenance": [],
      "collapsed_sections": [],
      "include_colab_link": true
    },
    "kernelspec": {
      "name": "python3",
      "display_name": "Python 3"
    },
    "language_info": {
      "name": "python"
    },
    "accelerator": "GPU"
  },
  "cells": [
    {
      "cell_type": "markdown",
      "metadata": {
        "id": "view-in-github",
        "colab_type": "text"
      },
      "source": [
        "<a href=\"https://colab.research.google.com/github/Ibrahimsyah/Foories/blob/master/notebooks/TF_Learning_with_Confusion%20_matrix.ipynb\" target=\"_parent\"><img src=\"https://colab.research.google.com/assets/colab-badge.svg\" alt=\"Open In Colab\"/></a>"
      ]
    },
    {
      "cell_type": "code",
      "metadata": {
        "id": "m1LtxOWoBAZv"
      },
      "source": [
        "!pip install gdown -q"
      ],
      "execution_count": 1,
      "outputs": []
    },
    {
      "cell_type": "code",
      "metadata": {
        "id": "9omKGtlgBDIv"
      },
      "source": [
        "import pathlib\n",
        "import tensorflow as tf\n",
        "import tensorflow_hub as hub\n",
        "from tensorflow.keras.preprocessing.image import ImageDataGenerator\n",
        "import numpy as np\n",
        "import matplotlib.pylab as plt\n",
        "from tqdm import tqdm"
      ],
      "execution_count": 2,
      "outputs": []
    },
    {
      "cell_type": "code",
      "metadata": {
        "colab": {
          "base_uri": "https://localhost:8080/"
        },
        "id": "mrWnWzwQCC6w",
        "outputId": "3718c169-f785-4ae8-e574-8c1d344c6bd1"
      },
      "source": [
        "print(\"\\u2022 Using TensorFlow Version:\", tf.__version__)\n",
        "print(\"\\u2022 Using TensorFlow Hub Version: \", hub.__version__)\n",
        "print('\\u2022 GPU Device Found.' if tf.test.is_gpu_available() else '\\u2022 GPU Device Not Found. Running on CPU')"
      ],
      "execution_count": 3,
      "outputs": [
        {
          "output_type": "stream",
          "text": [
            "• Using TensorFlow Version: 2.5.0\n",
            "• Using TensorFlow Hub Version:  0.12.0\n",
            "WARNING:tensorflow:From <ipython-input-3-564eecbd9ff6>:3: is_gpu_available (from tensorflow.python.framework.test_util) is deprecated and will be removed in a future version.\n",
            "Instructions for updating:\n",
            "Use `tf.config.list_physical_devices('GPU')` instead.\n",
            "• GPU Device Found.\n"
          ],
          "name": "stdout"
        }
      ]
    },
    {
      "cell_type": "code",
      "metadata": {
        "colab": {
          "base_uri": "https://localhost:8080/"
        },
        "id": "K5CDqq_GBEjg",
        "outputId": "8f9e6d56-db2a-4d2f-aad7-22bc6229fdf5"
      },
      "source": [
        "!gdown 'https://drive.google.com/uc?id=1xGVpcGWblW2xc8WR7LBi5s4rqfNdwQYr' -O dataset_cleaned_v2.zip"
      ],
      "execution_count": 4,
      "outputs": [
        {
          "output_type": "stream",
          "text": [
            "Downloading...\n",
            "From: https://drive.google.com/uc?id=1xGVpcGWblW2xc8WR7LBi5s4rqfNdwQYr\n",
            "To: /content/dataset_cleaned_v2.zip\n",
            "170MB [00:03, 54.8MB/s]\n"
          ],
          "name": "stdout"
        }
      ]
    },
    {
      "cell_type": "code",
      "metadata": {
        "id": "YQ4K8M1tBJBk"
      },
      "source": [
        "!unzip -q dataset_cleaned_v2.zip\n",
        "!mv /content/content/dataset /content\n",
        "!rm -rf /content/content"
      ],
      "execution_count": 5,
      "outputs": []
    },
    {
      "cell_type": "code",
      "metadata": {
        "id": "WgR6jSG9oAvc"
      },
      "source": [
        "!rm -rf /content/dataset/train/nasirendang\n",
        "!rm -rf /content/dataset/dev/nasirendang\n",
        "!rm -rf /content/dataset/test/nasirendang\n",
        "!rm -rf /content/dataset/train/bread\n",
        "!rm -rf /content/dataset/dev/bread\n",
        "!rm -rf /content/dataset/test/bread"
      ],
      "execution_count": 6,
      "outputs": []
    },
    {
      "cell_type": "code",
      "metadata": {
        "id": "yUUPnmL9BLDX"
      },
      "source": [
        "dataset_dir = \"/content/dataset\"\n",
        "train_dir = \"/content/dataset/train\"\n",
        "valid_dir = \"/content/dataset/dev\"\n",
        "test_dir = \"/content/dataset/test\""
      ],
      "execution_count": 7,
      "outputs": []
    },
    {
      "cell_type": "code",
      "metadata": {
        "id": "iQOWn6GFBZ5l",
        "colab": {
          "base_uri": "https://localhost:8080/"
        },
        "outputId": "a013f78a-af26-45a0-c346-4d1809b8ee87"
      },
      "source": [
        "module_selection = (\"mobilenet_v2\", 224, 1280) #@param [\"(\\\"mobilenet_v2\\\", 224, 1280)\", \"(\\\"inception_v3\\\", 299, 2048)\"] {type:\"raw\", allow-input: true}\n",
        "handle_base, pixels, FV_SIZE = module_selection\n",
        "MODULE_HANDLE =\"https://tfhub.dev/google/tf2-preview/{}/feature_vector/4\".format(handle_base)\n",
        "IMAGE_SIZE = (pixels, pixels)\n",
        "print(\"Using {} with input size {} and output dimension {}\".format(MODULE_HANDLE, IMAGE_SIZE, FV_SIZE))"
      ],
      "execution_count": 8,
      "outputs": [
        {
          "output_type": "stream",
          "text": [
            "Using https://tfhub.dev/google/tf2-preview/mobilenet_v2/feature_vector/4 with input size (224, 224) and output dimension 1280\n"
          ],
          "name": "stdout"
        }
      ]
    },
    {
      "cell_type": "code",
      "metadata": {
        "colab": {
          "base_uri": "https://localhost:8080/"
        },
        "id": "Nlh3CQZ3PvDL",
        "outputId": "ddbfeccd-6bc8-4f60-821a-95c3d84aed0e"
      },
      "source": [
        "module_selection"
      ],
      "execution_count": 9,
      "outputs": [
        {
          "output_type": "execute_result",
          "data": {
            "text/plain": [
              "('mobilenet_v2', 224, 1280)"
            ]
          },
          "metadata": {
            "tags": []
          },
          "execution_count": 9
        }
      ]
    },
    {
      "cell_type": "code",
      "metadata": {
        "id": "tW-4UOuxBkBe"
      },
      "source": [
        "BATCH_SIZE = 64 #@param {type:\"integer\"}"
      ],
      "execution_count": 10,
      "outputs": []
    },
    {
      "cell_type": "code",
      "metadata": {
        "id": "NJ9LVX6BEA_Q"
      },
      "source": [
        "do_fine_tuning = False #@param {type:\"boolean\"}"
      ],
      "execution_count": 11,
      "outputs": []
    },
    {
      "cell_type": "code",
      "metadata": {
        "id": "hR6pZJvtBrjz"
      },
      "source": [
        "feature_extractor = hub.KerasLayer(MODULE_HANDLE,\n",
        "                                   input_shape=IMAGE_SIZE + (3,), \n",
        "                                   output_shape=[FV_SIZE],\n",
        "                                   trainable=do_fine_tuning)"
      ],
      "execution_count": 12,
      "outputs": []
    },
    {
      "cell_type": "code",
      "metadata": {
        "id": "wroZR04lBsHr",
        "colab": {
          "base_uri": "https://localhost:8080/"
        },
        "outputId": "84eec0e1-c0a3-4cbb-a05b-a99d9d525bec"
      },
      "source": [
        "print(\"Building model with\", MODULE_HANDLE)\n",
        "\n",
        "model = tf.keras.Sequential([\n",
        "        feature_extractor,\n",
        "        tf.keras.layers.Dense(14, activation='softmax')\n",
        "])\n",
        "\n",
        "model.summary()"
      ],
      "execution_count": 21,
      "outputs": [
        {
          "output_type": "stream",
          "text": [
            "Building model with https://tfhub.dev/google/tf2-preview/mobilenet_v2/feature_vector/4\n",
            "Model: \"sequential_2\"\n",
            "_________________________________________________________________\n",
            "Layer (type)                 Output Shape              Param #   \n",
            "=================================================================\n",
            "keras_layer (KerasLayer)     (None, 1280)              2257984   \n",
            "_________________________________________________________________\n",
            "dense_2 (Dense)              (None, 14)                17934     \n",
            "=================================================================\n",
            "Total params: 2,275,918\n",
            "Trainable params: 17,934\n",
            "Non-trainable params: 2,257,984\n",
            "_________________________________________________________________\n"
          ],
          "name": "stdout"
        }
      ]
    },
    {
      "cell_type": "code",
      "metadata": {
        "id": "XTTL_Z2KBtcc"
      },
      "source": [
        "#@title (Optional) Unfreeze some layers\n",
        "NUM_LAYERS = 10 #@param {type:\"slider\", min:1, max:50, step:1}\n",
        "      \n",
        "if do_fine_tuning:\n",
        "    feature_extractor.trainable = True\n",
        "    \n",
        "    for layer in model.layers[-NUM_LAYERS:]:\n",
        "        layer.trainable = True\n",
        "\n",
        "else:\n",
        "    feature_extractor.trainable = False"
      ],
      "execution_count": 22,
      "outputs": []
    },
    {
      "cell_type": "code",
      "metadata": {
        "id": "mO9Qyp68B1WJ"
      },
      "source": [
        "if do_fine_tuning:\n",
        "    model.compile(optimizer=tf.keras.optimizers.SGD(lr=0.002, momentum=0.9),\n",
        "                  loss=tf.keras.losses.CategoricalCrossentropy(),\n",
        "                  metrics=['accuracy'])\n",
        "else:\n",
        "    model.compile(optimizer='adam',\n",
        "                  loss='categorical_crossentropy',\n",
        "                  metrics=['accuracy'])"
      ],
      "execution_count": 23,
      "outputs": []
    },
    {
      "cell_type": "code",
      "metadata": {
        "colab": {
          "base_uri": "https://localhost:8080/"
        },
        "id": "KQAPn_zjFIlR",
        "outputId": "4315b56b-ee02-43f5-ab1c-56fd7c63ec52"
      },
      "source": [
        "# Training datagen\n",
        "train_datagen =  tf.keras.preprocessing.image.ImageDataGenerator(\n",
        "    rescale=1./255,\n",
        "    shear_range=0.2,\n",
        "    zoom_range=0.2,\n",
        "    fill_mode='nearest'\n",
        ")\n",
        "\n",
        "test_datagen = ImageDataGenerator(rescale=1./255)\n",
        "valid_datagen =  ImageDataGenerator(rescale=1./255)\n",
        "\n",
        "# Flow training data generator\n",
        "train_generator = train_datagen.flow_from_directory(\n",
        "    train_dir,\n",
        "    target_size=(224, 224),\n",
        "    batch_size=BATCH_SIZE,\n",
        "    shuffle=True,\n",
        "    class_mode='categorical'\n",
        ")\n",
        "\n",
        "# Flow validation data generator\n",
        "validation_generator = valid_datagen.flow_from_directory(\n",
        "    valid_dir,\n",
        "    target_size=(224, 224),\n",
        "    batch_size=BATCH_SIZE,\n",
        "    shuffle=False,\n",
        "    class_mode='categorical'\n",
        ")\n",
        "\n",
        "# Flow test data generator\n",
        "test_generator = test_datagen.flow_from_directory(\n",
        "    test_dir,\n",
        "    target_size=(224, 224),\n",
        "    batch_size=BATCH_SIZE,\n",
        "    shuffle=False,\n",
        "    class_mode='categorical'\n",
        ")"
      ],
      "execution_count": 24,
      "outputs": [
        {
          "output_type": "stream",
          "text": [
            "Found 10100 images belonging to 14 classes.\n",
            "Found 1750 images belonging to 14 classes.\n",
            "Found 1750 images belonging to 14 classes.\n"
          ],
          "name": "stdout"
        }
      ]
    },
    {
      "cell_type": "code",
      "metadata": {
        "id": "IMk4xJW-Kd44"
      },
      "source": [
        "class_names = list(train_generator.class_indices.keys())\n",
        "\n",
        "# Create a labels.txt file with the class names\n",
        "with open('labels.txt', 'w') as f:\n",
        "    f.write('\\n'.join(class_names))"
      ],
      "execution_count": 25,
      "outputs": []
    },
    {
      "cell_type": "markdown",
      "metadata": {
        "id": "uN5oB9kZYkzM"
      },
      "source": [
        "##MobileNet_v2"
      ]
    },
    {
      "cell_type": "code",
      "metadata": {
        "colab": {
          "base_uri": "https://localhost:8080/"
        },
        "id": "zMC7t407Ypel",
        "outputId": "e5f99ec2-1928-4ded-cfee-d2896055b208"
      },
      "source": [
        "EPOCHS = 10\n",
        "\n",
        "hist2 = model.fit(train_generator,\n",
        "                epochs=EPOCHS,\n",
        "                validation_data=validation_generator)"
      ],
      "execution_count": 26,
      "outputs": [
        {
          "output_type": "stream",
          "text": [
            "Epoch 1/10\n",
            "158/158 [==============================] - 132s 827ms/step - loss: 1.0825 - accuracy: 0.6773 - val_loss: 0.6528 - val_accuracy: 0.7977\n",
            "Epoch 2/10\n",
            "158/158 [==============================] - 130s 820ms/step - loss: 0.6269 - accuracy: 0.8072 - val_loss: 0.5760 - val_accuracy: 0.8286\n",
            "Epoch 3/10\n",
            "158/158 [==============================] - 130s 820ms/step - loss: 0.5399 - accuracy: 0.8307 - val_loss: 0.5295 - val_accuracy: 0.8371\n",
            "Epoch 4/10\n",
            "158/158 [==============================] - 130s 823ms/step - loss: 0.4937 - accuracy: 0.8480 - val_loss: 0.5231 - val_accuracy: 0.8360\n",
            "Epoch 5/10\n",
            "158/158 [==============================] - 131s 828ms/step - loss: 0.4556 - accuracy: 0.8575 - val_loss: 0.4956 - val_accuracy: 0.8491\n",
            "Epoch 6/10\n",
            "158/158 [==============================] - 131s 827ms/step - loss: 0.4392 - accuracy: 0.8607 - val_loss: 0.5050 - val_accuracy: 0.8411\n",
            "Epoch 7/10\n",
            "158/158 [==============================] - 131s 827ms/step - loss: 0.4075 - accuracy: 0.8732 - val_loss: 0.5098 - val_accuracy: 0.8377\n",
            "Epoch 8/10\n",
            "158/158 [==============================] - 130s 825ms/step - loss: 0.3895 - accuracy: 0.8794 - val_loss: 0.4767 - val_accuracy: 0.8531\n",
            "Epoch 9/10\n",
            "158/158 [==============================] - 129s 815ms/step - loss: 0.3717 - accuracy: 0.8826 - val_loss: 0.4818 - val_accuracy: 0.8526\n",
            "Epoch 10/10\n",
            "158/158 [==============================] - 127s 804ms/step - loss: 0.3627 - accuracy: 0.8865 - val_loss: 0.4965 - val_accuracy: 0.8366\n"
          ],
          "name": "stdout"
        }
      ]
    },
    {
      "cell_type": "code",
      "metadata": {
        "id": "KufrmPJPB8OH",
        "colab": {
          "base_uri": "https://localhost:8080/",
          "height": 545
        },
        "outputId": "cb318dd3-9825-4623-a934-d8ec061cb093"
      },
      "source": [
        "import matplotlib.pyplot as plt\n",
        "acc = hist2.history['accuracy']\n",
        "val_acc = hist2.history['val_accuracy']\n",
        "loss = hist2.history['loss']\n",
        "val_loss = hist2.history['val_loss']\n",
        "\n",
        "epochs = range(len(acc))\n",
        "\n",
        "plt.plot(epochs, acc, 'b', label='Training accuracy')\n",
        "plt.plot(epochs, val_acc, 'r', label='Validation accuracy')\n",
        "plt.title('Training and validation accuracy')\n",
        "plt.legend()\n",
        "plt.figure()\n",
        "\n",
        "plt.plot(epochs, loss, 'b', label='Training Loss')\n",
        "plt.plot(epochs, val_loss, 'r', label='Validation Loss')\n",
        "plt.title('Training and validation loss')\n",
        "plt.legend()\n",
        "plt.show()"
      ],
      "execution_count": 27,
      "outputs": [
        {
          "output_type": "display_data",
          "data": {
            "image/png": "[encoded data removed]",
            "text/plain": [
              "<Figure size 432x288 with 1 Axes>"
            ]
          },
          "metadata": {
            "tags": [],
            "needs_background": "light"
          }
        },
        {
          "output_type": "display_data",
          "data": {
            "image/png": "[encoded data removed]",
            "text/plain": [
              "<Figure size 432x288 with 1 Axes>"
            ]
          },
          "metadata": {
            "tags": [],
            "needs_background": "light"
          }
        }
      ]
    },
    {
      "cell_type": "code",
      "metadata": {
        "id": "Dy56LtxsXc-_",
        "colab": {
          "base_uri": "https://localhost:8080/"
        },
        "outputId": "e8536e8d-28b6-4416-b519-4f7f476bf96a"
      },
      "source": [
        "# Evaluate on Testing data\n",
        "scores = model.evaluate(test_generator)\n",
        "print(\"%s%s: %.2f%%\" % (\"test acc: \", model.metrics_names[1], scores[1]*100))"
      ],
      "execution_count": 28,
      "outputs": [
        {
          "output_type": "stream",
          "text": [
            "28/28 [==============================] - 4s 150ms/step - loss: 0.4504 - accuracy: 0.8520\n",
            "test acc: accuracy: 85.20%\n"
          ],
          "name": "stdout"
        }
      ]
    },
    {
      "cell_type": "markdown",
      "metadata": {
        "id": "CWLWRA4nOQ5v"
      },
      "source": [
        "Conclusion:\n",
        "\n",
        "Transfer Learning Mobilenet_v2\n",
        "- Training: 84,34%\n",
        "- Validation: 80,10%\n",
        "- Testing: 81,55%"
      ]
    },
    {
      "cell_type": "code",
      "metadata": {
        "id": "siUbjVhYOH72"
      },
      "source": [
        "model.save('model.h5')"
      ],
      "execution_count": null,
      "outputs": []
    },
    {
      "cell_type": "markdown",
      "metadata": {
        "id": "1ZUfo9hkludd"
      },
      "source": [
        "##Exporting to TFLite"
      ]
    },
    {
      "cell_type": "code",
      "metadata": {
        "colab": {
          "base_uri": "https://localhost:8080/"
        },
        "id": "7Cp3b2QHlwPV",
        "outputId": "4d3f3f19-f0a8-464e-eb86-4671c2d48d87"
      },
      "source": [
        "# EXERCISE: Use the tf.saved_model API to save your model in the SavedModel format. \n",
        "export_dir = 'saved_model/1'\n",
        "\n",
        "# YOUR CODE HERE\n",
        "tf.saved_model.save(model, export_dir)"
      ],
      "execution_count": null,
      "outputs": [
        {
          "output_type": "stream",
          "text": [
            "INFO:tensorflow:Assets written to: saved_model/1/assets\n"
          ],
          "name": "stdout"
        },
        {
          "output_type": "stream",
          "text": [
            "INFO:tensorflow:Assets written to: saved_model/1/assets\n"
          ],
          "name": "stderr"
        }
      ]
    },
    {
      "cell_type": "code",
      "metadata": {
        "id": "3q8WP4gGlz8m"
      },
      "source": [
        "#@title Select mode of optimization\n",
        "mode = \"Speed\" #@param [\"Default\", \"Storage\", \"Speed\"]\n",
        "\n",
        "if mode == 'Storage':\n",
        "    optimization = tf.lite.Optimize.OPTIMIZE_FOR_SIZE\n",
        "elif mode == 'Speed':\n",
        "    optimization = tf.lite.Optimize.OPTIMIZE_FOR_LATENCY\n",
        "else:\n",
        "    optimization = tf.lite.Optimize.DEFAULT"
      ],
      "execution_count": null,
      "outputs": []
    },
    {
      "cell_type": "code",
      "metadata": {
        "id": "Kr0nFkr7l13k"
      },
      "source": [
        "# EXERCISE: Use the TFLiteConverter SavedModel API to initialize the converter\n",
        "\n",
        "converter = tf.lite.TFLiteConverter.from_saved_model(export_dir) # YOUR CODE HERE\n",
        "\n",
        "# Set the optimzations\n",
        "converter.optimizations = [optimization] # YOUR CODE HERE\n",
        "\n",
        "# Invoke the converter to finally generate the TFLite model\n",
        "tflite_model = converter.convert() # YOUR CODE HERE"
      ],
      "execution_count": null,
      "outputs": []
    },
    {
      "cell_type": "code",
      "metadata": {
        "colab": {
          "base_uri": "https://localhost:8080/"
        },
        "id": "iFgjz7B4mFZV",
        "outputId": "549f87d4-b8f3-4371-900b-c2369eaabc9a"
      },
      "source": [
        "tflite_model_file = pathlib.Path('./model.tflite')\n",
        "tflite_model_file.write_bytes(tflite_model)"
      ],
      "execution_count": null,
      "outputs": [
        {
          "output_type": "execute_result",
          "data": {
            "text/plain": [
              "2647632"
            ]
          },
          "metadata": {
            "tags": []
          },
          "execution_count": 33
        }
      ]
    },
    {
      "cell_type": "code",
      "metadata": {
        "colab": {
          "base_uri": "https://localhost:8080/",
          "height": 17
        },
        "id": "Dl9PgOjZmPt0",
        "outputId": "5d6f4eea-2c1a-462f-c9c8-ddf91d73bd3d"
      },
      "source": [
        "try:\n",
        "    from google.colab import files\n",
        "    \n",
        "    files.download(tflite_model_file)\n",
        "    files.download('labels.txt')\n",
        "    files.download('model.h5')\n",
        "except:\n",
        "    pass"
      ],
      "execution_count": null,
      "outputs": [
        {
          "output_type": "display_data",
          "data": {
            "application/javascript": [
              "\n",
              "    async function download(id, filename, size) {\n",
              "      if (!google.colab.kernel.accessAllowed) {\n",
              "        return;\n",
              "      }\n",
              "      const div = document.createElement('div');\n",
              "      const label = document.createElement('label');\n",
              "      label.textContent = `Downloading \"${filename}\": `;\n",
              "      div.appendChild(label);\n",
              "      const progress = document.createElement('progress');\n",
              "      progress.max = size;\n",
              "      div.appendChild(progress);\n",
              "      document.body.appendChild(div);\n",
              "\n",
              "      const buffers = [];\n",
              "      let downloaded = 0;\n",
              "\n",
              "      const channel = await google.colab.kernel.comms.open(id);\n",
              "      // Send a message to notify the kernel that we're ready.\n",
              "      channel.send({})\n",
              "\n",
              "      for await (const message of channel.messages) {\n",
              "        // Send a message to notify the kernel that we're ready.\n",
              "        channel.send({})\n",
              "        if (message.buffers) {\n",
              "          for (const buffer of message.buffers) {\n",
              "            buffers.push(buffer);\n",
              "            downloaded += buffer.byteLength;\n",
              "            progress.value = downloaded;\n",
              "          }\n",
              "        }\n",
              "      }\n",
              "      const blob = new Blob(buffers, {type: 'application/binary'});\n",
              "      const a = document.createElement('a');\n",
              "      a.href = window.URL.createObjectURL(blob);\n",
              "      a.download = filename;\n",
              "      div.appendChild(a);\n",
              "      a.click();\n",
              "      div.remove();\n",
              "    }\n",
              "  "
            ],
            "text/plain": [
              "<IPython.core.display.Javascript object>"
            ]
          },
          "metadata": {
            "tags": []
          }
        },
        {
          "output_type": "display_data",
          "data": {
            "application/javascript": [
              "download(\"download_d356a2c2-2eed-4bb8-9734-d40540ffb60a\", \"model.tflite\", 2647632)"
            ],
            "text/plain": [
              "<IPython.core.display.Javascript object>"
            ]
          },
          "metadata": {
            "tags": []
          }
        },
        {
          "output_type": "display_data",
          "data": {
            "application/javascript": [
              "\n",
              "    async function download(id, filename, size) {\n",
              "      if (!google.colab.kernel.accessAllowed) {\n",
              "        return;\n",
              "      }\n",
              "      const div = document.createElement('div');\n",
              "      const label = document.createElement('label');\n",
              "      label.textContent = `Downloading \"${filename}\": `;\n",
              "      div.appendChild(label);\n",
              "      const progress = document.createElement('progress');\n",
              "      progress.max = size;\n",
              "      div.appendChild(progress);\n",
              "      document.body.appendChild(div);\n",
              "\n",
              "      const buffers = [];\n",
              "      let downloaded = 0;\n",
              "\n",
              "      const channel = await google.colab.kernel.comms.open(id);\n",
              "      // Send a message to notify the kernel that we're ready.\n",
              "      channel.send({})\n",
              "\n",
              "      for await (const message of channel.messages) {\n",
              "        // Send a message to notify the kernel that we're ready.\n",
              "        channel.send({})\n",
              "        if (message.buffers) {\n",
              "          for (const buffer of message.buffers) {\n",
              "            buffers.push(buffer);\n",
              "            downloaded += buffer.byteLength;\n",
              "            progress.value = downloaded;\n",
              "          }\n",
              "        }\n",
              "      }\n",
              "      const blob = new Blob(buffers, {type: 'application/binary'});\n",
              "      const a = document.createElement('a');\n",
              "      a.href = window.URL.createObjectURL(blob);\n",
              "      a.download = filename;\n",
              "      div.appendChild(a);\n",
              "      a.click();\n",
              "      div.remove();\n",
              "    }\n",
              "  "
            ],
            "text/plain": [
              "<IPython.core.display.Javascript object>"
            ]
          },
          "metadata": {
            "tags": []
          }
        },
        {
          "output_type": "display_data",
          "data": {
            "application/javascript": [
              "download(\"download_3dc145ce-4344-4f1a-b8c7-62e9dde386c5\", \"labels.txt\", 118)"
            ],
            "text/plain": [
              "<IPython.core.display.Javascript object>"
            ]
          },
          "metadata": {
            "tags": []
          }
        },
        {
          "output_type": "display_data",
          "data": {
            "application/javascript": [
              "\n",
              "    async function download(id, filename, size) {\n",
              "      if (!google.colab.kernel.accessAllowed) {\n",
              "        return;\n",
              "      }\n",
              "      const div = document.createElement('div');\n",
              "      const label = document.createElement('label');\n",
              "      label.textContent = `Downloading \"${filename}\": `;\n",
              "      div.appendChild(label);\n",
              "      const progress = document.createElement('progress');\n",
              "      progress.max = size;\n",
              "      div.appendChild(progress);\n",
              "      document.body.appendChild(div);\n",
              "\n",
              "      const buffers = [];\n",
              "      let downloaded = 0;\n",
              "\n",
              "      const channel = await google.colab.kernel.comms.open(id);\n",
              "      // Send a message to notify the kernel that we're ready.\n",
              "      channel.send({})\n",
              "\n",
              "      for await (const message of channel.messages) {\n",
              "        // Send a message to notify the kernel that we're ready.\n",
              "        channel.send({})\n",
              "        if (message.buffers) {\n",
              "          for (const buffer of message.buffers) {\n",
              "            buffers.push(buffer);\n",
              "            downloaded += buffer.byteLength;\n",
              "            progress.value = downloaded;\n",
              "          }\n",
              "        }\n",
              "      }\n",
              "      const blob = new Blob(buffers, {type: 'application/binary'});\n",
              "      const a = document.createElement('a');\n",
              "      a.href = window.URL.createObjectURL(blob);\n",
              "      a.download = filename;\n",
              "      div.appendChild(a);\n",
              "      a.click();\n",
              "      div.remove();\n",
              "    }\n",
              "  "
            ],
            "text/plain": [
              "<IPython.core.display.Javascript object>"
            ]
          },
          "metadata": {
            "tags": []
          }
        },
        {
          "output_type": "display_data",
          "data": {
            "application/javascript": [
              "download(\"download_4a203b2a-3355-44ed-bb52-5c2a4bd12403\", \"model.h5\", 9513024)"
            ],
            "text/plain": [
              "<IPython.core.display.Javascript object>"
            ]
          },
          "metadata": {
            "tags": []
          }
        }
      ]
    },
    {
      "cell_type": "code",
      "metadata": {
        "id": "SNPQJVmy_F5g",
        "outputId": "fdf2e144-5e41-4dfb-9880-f3c70b1a16b3",
        "colab": {
          "base_uri": "https://localhost:8080/"
        }
      },
      "source": [
        "!gdown https://drive.google.com/uc?id=1vUGcTFykITFUkXsdMu06WIxiCw0iV9ZX -O model.h5"
      ],
      "execution_count": 1,
      "outputs": [
        {
          "output_type": "stream",
          "text": [
            "Downloading...\n",
            "From: https://drive.google.com/uc?id=1vUGcTFykITFUkXsdMu06WIxiCw0iV9ZX\n",
            "To: /content/model.h5\n",
            "9.51MB [00:00, 83.4MB/s]\n"
          ],
          "name": "stdout"
        }
      ]
    },
    {
      "cell_type": "code",
      "metadata": {
        "id": "Y6Hf0bLI_ViS"
      },
      "source": [
        "import tensorflow_hub as hub\n",
        "from sklearn.metrics import classification_report, confusion_matrix, plot_confusion_matrix"
      ],
      "execution_count": 57,
      "outputs": []
    },
    {
      "cell_type": "code",
      "metadata": {
        "id": "kMD3z2GUB1qx"
      },
      "source": [
        "model = tf.keras.models.load_model('model.h5', custom_objects={'KerasLayer': hub.KerasLayer})"
      ],
      "execution_count": 48,
      "outputs": []
    },
    {
      "cell_type": "code",
      "metadata": {
        "id": "P_EqBF22APys",
        "outputId": "f880c2d2-6724-488d-cb5e-bea36657f3bb",
        "colab": {
          "base_uri": "https://localhost:8080/"
        }
      },
      "source": [
        "Y_pred = model.predict(test_generator)\n",
        "y_pred = np.argmax(Y_pred, axis=1)\n",
        "\n",
        "cm = confusion_matrix(test_generator.classes, y_pred)\n",
        "\n",
        "print('Classification Report')\n",
        "print(classification_report(test_generator.classes, y_pred, target_names=class_names))"
      ],
      "execution_count": 58,
      "outputs": [
        {
          "output_type": "stream",
          "text": [
            "Classification Report\n",
            "              precision    recall  f1-score   support\n",
            "\n",
            "       bakso       0.73      0.86      0.79       125\n",
            "       bread       0.83      0.46      0.59       125\n",
            "     dessert       0.82      0.71      0.76       125\n",
            "         egg       0.71      0.75      0.73       125\n",
            "french_fries       0.91      0.86      0.88       125\n",
            "  fried_rice       0.85      0.86      0.85       125\n",
            "   hamburger       0.72      0.86      0.78       125\n",
            "        meat       0.80      0.86      0.83       125\n",
            " nasirendang       0.68      0.74      0.71       125\n",
            "       pizza       0.73      0.90      0.81       125\n",
            "        sate       0.86      0.86      0.86       125\n",
            "        soto       0.88      0.76      0.82       125\n",
            "        soup       0.92      0.94      0.93       125\n",
            "   spaghetti       0.92      0.98      0.95       125\n",
            "       sushi       0.88      0.74      0.80       125\n",
            "    vegfruit       0.91      0.92      0.91       125\n",
            "\n",
            "    accuracy                           0.82      2000\n",
            "   macro avg       0.82      0.82      0.81      2000\n",
            "weighted avg       0.82      0.82      0.81      2000\n",
            "\n"
          ],
          "name": "stdout"
        }
      ]
    },
    {
      "cell_type": "code",
      "metadata": {
        "id": "s91PpvqiGKBy",
        "outputId": "a33a94ee-05f7-4339-cfe2-a055ed829b73",
        "colab": {
          "base_uri": "https://localhost:8080/",
          "height": 752
        }
      },
      "source": [
        "import seaborn as sns\n",
        "plt.figure(figsize=(12,12))\n",
        "ax = sns.heatmap(cm/np.sum(cm), annot=True, fmt='.1%', cmap=\"Greens\", xticklabels=class_names, yticklabels=class_names)\n",
        "plt.show()"
      ],
      "execution_count": 70,
      "outputs": [
        {
          "output_type": "display_data",
          "data": {
            "image/png": "[encoded data removed]",
            "text/plain": [
              "<Figure size 864x864 with 2 Axes>"
            ]
          },
          "metadata": {
            "tags": [],
            "needs_background": "light"
          }
        }
      ]
    }
  ]
}