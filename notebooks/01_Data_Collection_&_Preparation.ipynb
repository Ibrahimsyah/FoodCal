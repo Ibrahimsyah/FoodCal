{
  "nbformat": 4,
  "nbformat_minor": 0,
  "metadata": {
    "colab": {
      "name": "01 - Data Collection & Preparation.ipynb",
      "provenance": [],
      "collapsed_sections": [],
      "toc_visible": true
    },
    "kernelspec": {
      "name": "python3",
      "display_name": "Python 3"
    },
    "language_info": {
      "name": "python"
    }
  },
  "cells": [
    {
      "cell_type": "code",
      "metadata": {
        "id": "SwY4rXAjFB2f"
      },
      "source": [
        "!pip install kaggle -q\n",
        "!pip install split-folders -q"
      ],
      "execution_count": null,
      "outputs": []
    },
    {
      "cell_type": "code",
      "metadata": {
        "id": "ejJU6J03EwuV"
      },
      "source": [
        "import tensorflow as tf\n",
        "import numpy as np\n",
        "import splitfolders"
      ],
      "execution_count": null,
      "outputs": []
    },
    {
      "cell_type": "code",
      "metadata": {
        "id": "bm4HHSgwHXG-"
      },
      "source": [
        "# Kaggle API setup\n",
        "!mkdir ~/.kaggle\n",
        "!echo '{\"username\":\"masnormen\",\"key\":\"14b2c5e35c96599a1c66abdd34386b02\"}' > ~/.kaggle/kaggle.json\n",
        "!chmod 600 ~/.kaggle/kaggle.json"
      ],
      "execution_count": null,
      "outputs": []
    },
    {
      "cell_type": "code",
      "metadata": {
        "colab": {
          "base_uri": "https://localhost:8080/"
        },
        "id": "HG2m8yEZIjpg",
        "outputId": "b2dd59a6-1b38-4aa4-b59e-0f3f4ec8a5df"
      },
      "source": [
        "# Donglod dataset\n",
        "!kaggle datasets download -d trolukovich/food11-image-dataset\n",
        "!kaggle datasets download -d kmader/food41"
      ],
      "execution_count": null,
      "outputs": [
        {
          "output_type": "stream",
          "text": [
            "Downloading food11-image-dataset.zip to /content\n",
            " 99% 1.07G/1.08G [00:06<00:00, 172MB/s]\n",
            "100% 1.08G/1.08G [00:06<00:00, 168MB/s]\n",
            "Downloading food41.zip to /content\n",
            "100% 5.30G/5.30G [01:26<00:00, 49.9MB/s]\n",
            "100% 5.30G/5.30G [01:26<00:00, 66.0MB/s]\n"
          ],
          "name": "stdout"
        }
      ]
    },
    {
      "cell_type": "markdown",
      "metadata": {
        "id": "CiXlBv2eMIhZ"
      },
      "source": [
        "# Extracting & Splitting Dataset\n",
        "\n",
        "- Training: 700\n",
        "- Validation: 150\n",
        "- Test: 150\n",
        "- *Total: 1000*\n",
        "\n",
        "Dataset 1:\n",
        "- Bread\n",
        "- Dessert\n",
        "- Egg\n",
        "- Meat\n",
        "- Soup\n",
        "- Vegetable-Fruit\n",
        "\n",
        "Dataset 2:\n",
        "- fried_rice\n",
        "- french_fries\n",
        "- spaghetti_carbonara\n",
        "- hamburger\n",
        "- pizza\n",
        "- sushi"
      ]
    },
    {
      "cell_type": "code",
      "metadata": {
        "id": "9fMhtn8sQlu-"
      },
      "source": [
        "!mkdir dataset\n",
        "!mkdir dataset/train\n",
        "!mkdir dataset/dev\n",
        "!mkdir dataset/test"
      ],
      "execution_count": null,
      "outputs": []
    },
    {
      "cell_type": "markdown",
      "metadata": {
        "id": "Qw_yUHEPT1UI"
      },
      "source": [
        "## Dataset 1 - Extraction & Cleaning"
      ]
    },
    {
      "cell_type": "code",
      "metadata": {
        "id": "YhPiPkZ_Jwh-"
      },
      "source": [
        "!unzip -j -q food11-image-dataset.zip \"training/Bread/*\" -d \"dataset/train/bread\"\n",
        "!unzip -j -q food11-image-dataset.zip \"training/Dessert/*\" -d \"dataset/train/dessert\"\n",
        "!unzip -j -q food11-image-dataset.zip \"training/Egg/*\" -d \"dataset/train/egg\"\n",
        "!unzip -j -q food11-image-dataset.zip \"training/Meat/*\" -d \"dataset/train/meat\"\n",
        "!unzip -j -q food11-image-dataset.zip \"training/Soup/*\" -d \"dataset/train/soup\"\n",
        "!unzip -j -q food11-image-dataset.zip \"training/Vegetable-Fruit/*\" -d \"dataset/train/vegfruit\""
      ],
      "execution_count": null,
      "outputs": []
    },
    {
      "cell_type": "code",
      "metadata": {
        "id": "9SXf7xFnR2E7"
      },
      "source": [
        "!unzip -j -q food11-image-dataset.zip \"validation/Bread/*\" -d \"dataset/dev/bread\"\n",
        "!unzip -j -q food11-image-dataset.zip \"validation/Dessert/*\" -d \"dataset/dev/dessert\"\n",
        "!unzip -j -q food11-image-dataset.zip \"validation/Egg/*\" -d \"dataset/dev/egg\"\n",
        "!unzip -j -q food11-image-dataset.zip \"validation/Meat/*\" -d \"dataset/dev/meat\"\n",
        "!unzip -j -q food11-image-dataset.zip \"validation/Soup/*\" -d \"dataset/dev/soup\"\n",
        "!unzip -j -q food11-image-dataset.zip \"validation/Vegetable-Fruit/*\" -d \"dataset/dev/vegfruit\""
      ],
      "execution_count": null,
      "outputs": []
    },
    {
      "cell_type": "code",
      "metadata": {
        "id": "xwFwa6n-RwZ0"
      },
      "source": [
        "!unzip -j -q food11-image-dataset.zip \"evaluation/Bread/*\" -d \"dataset/test/bread\"\n",
        "!unzip -j -q food11-image-dataset.zip \"evaluation/Dessert/*\" -d \"dataset/test/dessert\"\n",
        "!unzip -j -q food11-image-dataset.zip \"evaluation/Egg/*\" -d \"dataset/test/egg\"\n",
        "!unzip -j -q food11-image-dataset.zip \"evaluation/Meat/*\" -d \"dataset/test/meat\"\n",
        "!unzip -j -q food11-image-dataset.zip \"evaluation/Soup/*\" -d \"dataset/test/soup\"\n",
        "!unzip -j -q food11-image-dataset.zip \"evaluation/Vegetable-Fruit/*\" -d \"dataset/test/vegfruit\""
      ],
      "execution_count": null,
      "outputs": []
    },
    {
      "cell_type": "code",
      "metadata": {
        "id": "CxM20VaRRwwL"
      },
      "source": [
        "# Delete unnecessary data\n",
        "\n",
        "!ls -d dataset/train/bread/* | tail -n +701 | xargs rm\n",
        "!ls -d dataset/train/dessert/* | tail -n +701 | xargs rm\n",
        "!ls -d dataset/train/egg/* | tail -n +701 | xargs rm\n",
        "!ls -d dataset/train/meat/* | tail -n +701 | xargs rm\n",
        "!ls -d dataset/train/soup/* | tail -n +701 | xargs rm\n",
        "!ls -d dataset/train/vegfruit/* | tail -n +701 | xargs rm"
      ],
      "execution_count": null,
      "outputs": []
    },
    {
      "cell_type": "code",
      "metadata": {
        "id": "Koc2OnDUaNle"
      },
      "source": [
        "!ls -d dataset/dev/bread/* | tail -n +151 | xargs rm\n",
        "!ls -d dataset/dev/dessert/* | tail -n +151 | xargs rm\n",
        "!ls -d dataset/dev/egg/* | tail -n +151 | xargs rm\n",
        "!ls -d dataset/dev/meat/* | tail -n +151 | xargs rm\n",
        "!ls -d dataset/dev/soup/* | tail -n +151 | xargs rm\n",
        "!ls -d dataset/dev/vegfruit/* | tail -n +151 | xargs rm"
      ],
      "execution_count": null,
      "outputs": []
    },
    {
      "cell_type": "code",
      "metadata": {
        "id": "K5HQwlm7aV30"
      },
      "source": [
        "!ls -d dataset/test/bread/* | tail -n +151 | xargs rm\n",
        "!ls -d dataset/test/dessert/* | tail -n +151 | xargs rm\n",
        "!ls -d dataset/test/egg/* | tail -n +151 | xargs rm\n",
        "!ls -d dataset/test/meat/* | tail -n +151 | xargs rm\n",
        "!ls -d dataset/test/soup/* | tail -n +151 | xargs rm\n",
        "!ls -d dataset/test/vegfruit/* | tail -n +151 | xargs rm"
      ],
      "execution_count": null,
      "outputs": []
    },
    {
      "cell_type": "markdown",
      "metadata": {
        "id": "3rpPLl6DafJ8"
      },
      "source": [
        "## Dataset 2 - Extraction & Split"
      ]
    },
    {
      "cell_type": "code",
      "metadata": {
        "id": "jPDxlWolbHwj"
      },
      "source": [
        "!mkdir dirty_data"
      ],
      "execution_count": null,
      "outputs": []
    },
    {
      "cell_type": "code",
      "metadata": {
        "id": "RKzXqhMzOJZH"
      },
      "source": [
        "!unzip -j -q food41.zip \"images/fried_rice/*\" -d \"dirty_data/fried_rice\"\n",
        "!unzip -j -q food41.zip \"images/french_fries/*\" -d \"dirty_data/french_fries\"\n",
        "!unzip -j -q food41.zip \"images/hamburger/*\" -d \"dirty_data/hamburger\"\n",
        "!unzip -j -q food41.zip \"images/pizza/*\" -d \"dirty_data/pizza\"\n",
        "!unzip -j -q food41.zip \"images/spaghetti_carbonara/*\" -d \"dirty_data/spaghetti\"\n",
        "!unzip -j -q food41.zip \"images/sushi/*\" -d \"dirty_data/sushi\""
      ],
      "execution_count": null,
      "outputs": []
    },
    {
      "cell_type": "code",
      "metadata": {
        "colab": {
          "base_uri": "https://localhost:8080/"
        },
        "id": "AT8IlX-NbqS8",
        "outputId": "6210904c-7026-46fd-d975-9375b734a062"
      },
      "source": [
        "# Do data split to train, dev, test => 700 : 150: 150\n",
        "\n",
        "splitfolders.ratio(\"dirty_data\", output=\"output_data\", seed=42, ratio=(.7, .15, .15), group_prefix=None)"
      ],
      "execution_count": null,
      "outputs": [
        {
          "output_type": "stream",
          "text": [
            "Copying files: 6000 files [00:01, 3556.91 files/s]\n"
          ],
          "name": "stderr"
        }
      ]
    },
    {
      "cell_type": "code",
      "metadata": {
        "id": "THUuvmh2dJic"
      },
      "source": [
        "# Cleaning up folders\n",
        "\n",
        "!mv output_data/train/* dataset/train/\n",
        "!mv output_data/val/* dataset/dev/\n",
        "!mv output_data/test/* dataset/test/\n",
        "!rm -rf output_data\n",
        "!rm -rf dirty_data"
      ],
      "execution_count": null,
      "outputs": []
    },
    {
      "cell_type": "markdown",
      "metadata": {
        "id": "aX4Ru5vLdH4m"
      },
      "source": [
        "## Dataset 3 -Scrapping"
      ]
    },
    {
      "cell_type": "code",
      "metadata": {
        "id": "Tfgu6plJctdd"
      },
      "source": [
        "from bs4 import BeautifulSoup\n",
        "import requests"
      ],
      "execution_count": null,
      "outputs": []
    },
    {
      "cell_type": "code",
      "metadata": {
        "colab": {
          "base_uri": "https://localhost:8080/"
        },
        "id": "_HTT4Bztcsvl",
        "outputId": "a0ad63f1-c4d9-4875-c428-3f8a2df71450"
      },
      "source": [
        "base_url = \"https://www.bing.com/images/s/earch?q=nasi+rendang&form=HDRSC2&first=1&tsc=ImageBasicHover\"\n",
        "# base_url = \"https://www.google.com/search?q=nasi+rendang&tbm=isch&ved=2ahUKEwi2j4zMgLfwAhVYG3IKHRInAGIQ2-cCegQIABAA&oq=nasi+rendang&gs_lcp=CgNpbWcQDFAAWABgpp7qAmgAcAB4AIABAIgBAJIBAJgBAKoBC2d3cy13aXotaW1n&sclient=img&ei=deaUYPaAEdi2yAOSzoCQBg\"\n",
        "# base_url = \"https://cookpad.com/id\"\n",
        "# base_url = \"https://image.baidu.com/search/index?tn=baiduimage&ps=1&ct=201326592&lm=-1&cl=2&nc=1&ie=utf-8&word=rendang\"\n",
        "# food_url = \"https://www.bing.com/images/search?view=detailV2&ccid=vu01BajQ&id=83631D8938F489950B36394260A2E056AE1201FD&thid=OIP.vu01BajQ8gHARX1imUU6kQHaHa&mediaurl=https%3a%2f%2fi1.wp.com%2ficone-inc.org%2fwp-content%2fuploads%2f2019%2f03%2fNasi-Padang-Vera.jpg%3ffit%3d4096%252C4096%26ssl%3d1&exph=4096&expw=4096&q=nasi+rendang&simid=608048948364126468&ck=C3942BA57F808B87ACBC0F30B78619F5&selectedIndex=0&FORM=IRPRST\"\n",
        "hdr = {'User-Agent': 'Mozilla/5.0'}\n",
        "\n",
        "soup = BeautifulSoup(requests.get(base_url, headers=hdr).text, 'lxml')\n",
        "food = []\n",
        "# print(soup)\n",
        "# food_urls = {food_element: None for food_element in soup.select(\".block bg-black-transparent rounded-t overflow-hidden, .tofu_image\")}\n",
        "food_urls = {food_element: None for food_element in soup.select(\".imgbox\")}\n",
        "# soup.find_all(\"div\", {\"class\": \"stylelistrow\"})\n",
        "print(food_urls)"
      ],
      "execution_count": null,
      "outputs": [
        {
          "output_type": "stream",
          "text": [
            "{}\n"
          ],
          "name": "stdout"
        }
      ]
    }
  ]
}